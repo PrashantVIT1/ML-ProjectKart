{
 "cells": [
  {
   "cell_type": "code",
   "execution_count": 43,
   "metadata": {},
   "outputs": [],
   "source": [
    "##By GIT_ID: PrashantVIT1"
   ]
  },
  {
   "cell_type": "code",
   "execution_count": 1,
   "metadata": {},
   "outputs": [
    {
     "name": "stderr",
     "output_type": "stream",
     "text": [
      "Using TensorFlow backend.\n",
      "C:\\Users\\Dell\\anaconda3\\lib\\site-packages\\tensorflow\\python\\framework\\dtypes.py:516: FutureWarning: Passing (type, 1) or '1type' as a synonym of type is deprecated; in a future version of numpy, it will be understood as (type, (1,)) / '(1,)type'.\n",
      "  _np_qint8 = np.dtype([(\"qint8\", np.int8, 1)])\n",
      "C:\\Users\\Dell\\anaconda3\\lib\\site-packages\\tensorflow\\python\\framework\\dtypes.py:517: FutureWarning: Passing (type, 1) or '1type' as a synonym of type is deprecated; in a future version of numpy, it will be understood as (type, (1,)) / '(1,)type'.\n",
      "  _np_quint8 = np.dtype([(\"quint8\", np.uint8, 1)])\n",
      "C:\\Users\\Dell\\anaconda3\\lib\\site-packages\\tensorflow\\python\\framework\\dtypes.py:518: FutureWarning: Passing (type, 1) or '1type' as a synonym of type is deprecated; in a future version of numpy, it will be understood as (type, (1,)) / '(1,)type'.\n",
      "  _np_qint16 = np.dtype([(\"qint16\", np.int16, 1)])\n",
      "C:\\Users\\Dell\\anaconda3\\lib\\site-packages\\tensorflow\\python\\framework\\dtypes.py:519: FutureWarning: Passing (type, 1) or '1type' as a synonym of type is deprecated; in a future version of numpy, it will be understood as (type, (1,)) / '(1,)type'.\n",
      "  _np_quint16 = np.dtype([(\"quint16\", np.uint16, 1)])\n",
      "C:\\Users\\Dell\\anaconda3\\lib\\site-packages\\tensorflow\\python\\framework\\dtypes.py:520: FutureWarning: Passing (type, 1) or '1type' as a synonym of type is deprecated; in a future version of numpy, it will be understood as (type, (1,)) / '(1,)type'.\n",
      "  _np_qint32 = np.dtype([(\"qint32\", np.int32, 1)])\n",
      "C:\\Users\\Dell\\anaconda3\\lib\\site-packages\\tensorflow\\python\\framework\\dtypes.py:525: FutureWarning: Passing (type, 1) or '1type' as a synonym of type is deprecated; in a future version of numpy, it will be understood as (type, (1,)) / '(1,)type'.\n",
      "  np_resource = np.dtype([(\"resource\", np.ubyte, 1)])\n",
      "C:\\Users\\Dell\\anaconda3\\lib\\site-packages\\tensorboard\\compat\\tensorflow_stub\\dtypes.py:541: FutureWarning: Passing (type, 1) or '1type' as a synonym of type is deprecated; in a future version of numpy, it will be understood as (type, (1,)) / '(1,)type'.\n",
      "  _np_qint8 = np.dtype([(\"qint8\", np.int8, 1)])\n",
      "C:\\Users\\Dell\\anaconda3\\lib\\site-packages\\tensorboard\\compat\\tensorflow_stub\\dtypes.py:542: FutureWarning: Passing (type, 1) or '1type' as a synonym of type is deprecated; in a future version of numpy, it will be understood as (type, (1,)) / '(1,)type'.\n",
      "  _np_quint8 = np.dtype([(\"quint8\", np.uint8, 1)])\n",
      "C:\\Users\\Dell\\anaconda3\\lib\\site-packages\\tensorboard\\compat\\tensorflow_stub\\dtypes.py:543: FutureWarning: Passing (type, 1) or '1type' as a synonym of type is deprecated; in a future version of numpy, it will be understood as (type, (1,)) / '(1,)type'.\n",
      "  _np_qint16 = np.dtype([(\"qint16\", np.int16, 1)])\n",
      "C:\\Users\\Dell\\anaconda3\\lib\\site-packages\\tensorboard\\compat\\tensorflow_stub\\dtypes.py:544: FutureWarning: Passing (type, 1) or '1type' as a synonym of type is deprecated; in a future version of numpy, it will be understood as (type, (1,)) / '(1,)type'.\n",
      "  _np_quint16 = np.dtype([(\"quint16\", np.uint16, 1)])\n",
      "C:\\Users\\Dell\\anaconda3\\lib\\site-packages\\tensorboard\\compat\\tensorflow_stub\\dtypes.py:545: FutureWarning: Passing (type, 1) or '1type' as a synonym of type is deprecated; in a future version of numpy, it will be understood as (type, (1,)) / '(1,)type'.\n",
      "  _np_qint32 = np.dtype([(\"qint32\", np.int32, 1)])\n",
      "C:\\Users\\Dell\\anaconda3\\lib\\site-packages\\tensorboard\\compat\\tensorflow_stub\\dtypes.py:550: FutureWarning: Passing (type, 1) or '1type' as a synonym of type is deprecated; in a future version of numpy, it will be understood as (type, (1,)) / '(1,)type'.\n",
      "  np_resource = np.dtype([(\"resource\", np.ubyte, 1)])\n"
     ]
    }
   ],
   "source": [
    "#Bulid the CNN\n",
    "import keras\n",
    "import PIL"
   ]
  },
  {
   "cell_type": "code",
   "execution_count": 2,
   "metadata": {},
   "outputs": [],
   "source": [
    "from keras.models import Sequential\n",
    "from keras.layers import Conv2D\n",
    "from keras.layers import MaxPooling2D\n",
    "from keras.layers import Flatten\n",
    "from keras.layers import Dense, Dropout"
   ]
  },
  {
   "cell_type": "code",
   "execution_count": 4,
   "metadata": {},
   "outputs": [],
   "source": [
    "#initialing the CNN\n",
    "model = Sequential()"
   ]
  },
  {
   "cell_type": "code",
   "execution_count": 7,
   "metadata": {},
   "outputs": [],
   "source": [
    "#step 1: convolution\n",
    "model.add(Conv2D(32, (3, 3), input_shape = (64, 64, 3), activation = 'relu'))"
   ]
  },
  {
   "cell_type": "code",
   "execution_count": 6,
   "metadata": {},
   "outputs": [
    {
     "name": "stdout",
     "output_type": "stream",
     "text": [
      "WARNING:tensorflow:From C:\\Users\\Dell\\anaconda3\\lib\\site-packages\\keras\\backend\\tensorflow_backend.py:4070: The name tf.nn.max_pool is deprecated. Please use tf.nn.max_pool2d instead.\n",
      "\n"
     ]
    }
   ],
   "source": [
    "#step 2: pooling\n",
    "model.add(MaxPooling2D(pool_size = (2,2)))"
   ]
  },
  {
   "cell_type": "code",
   "execution_count": 8,
   "metadata": {},
   "outputs": [],
   "source": [
    "# adding another convolution layer to improve the accuracy\n",
    "model.add(Conv2D(32,(3,3), activation='relu'))\n",
    "model.add(MaxPooling2D(pool_size = (2,2)))"
   ]
  },
  {
   "cell_type": "code",
   "execution_count": 9,
   "metadata": {},
   "outputs": [],
   "source": [
    "#step 3: flattening\n",
    "model.add(Flatten())"
   ]
  },
  {
   "cell_type": "code",
   "execution_count": 17,
   "metadata": {},
   "outputs": [
    {
     "name": "stdout",
     "output_type": "stream",
     "text": [
      "WARNING:tensorflow:Large dropout rate: 0.6 (>0.5). In TensorFlow 2.x, dropout() uses dropout rate instead of keep_prob. Please ensure that this is intended.\n"
     ]
    }
   ],
   "source": [
    "#step 4: full connection\n",
    "model.add(Dense(units=128, activation='relu'))\n",
    "model.add(Dropout(0.6))\n",
    "model.add(Dense(units = 64, activation= 'relu'))\n",
    "model.add(Dropout(0.3))\n",
    "model.add(Dense(units=1, activation ='sigmoid'))"
   ]
  },
  {
   "cell_type": "code",
   "execution_count": 18,
   "metadata": {},
   "outputs": [
    {
     "name": "stdout",
     "output_type": "stream",
     "text": [
      "Model: \"sequential_1\"\n",
      "_________________________________________________________________\n",
      "Layer (type)                 Output Shape              Param #   \n",
      "=================================================================\n",
      "conv2d_1 (Conv2D)            (None, 62, 62, 32)        896       \n",
      "_________________________________________________________________\n",
      "max_pooling2d_1 (MaxPooling2 (None, 31, 31, 32)        0         \n",
      "_________________________________________________________________\n",
      "conv2d_2 (Conv2D)            (None, 29, 29, 32)        9248      \n",
      "_________________________________________________________________\n",
      "conv2d_3 (Conv2D)            (None, 27, 27, 32)        9248      \n",
      "_________________________________________________________________\n",
      "max_pooling2d_2 (MaxPooling2 (None, 13, 13, 32)        0         \n",
      "_________________________________________________________________\n",
      "flatten_1 (Flatten)          (None, 5408)              0         \n",
      "_________________________________________________________________\n",
      "dense_1 (Dense)              (None, 128)               692352    \n",
      "_________________________________________________________________\n",
      "dropout_1 (Dropout)          (None, 128)               0         \n",
      "_________________________________________________________________\n",
      "dense_2 (Dense)              (None, 64)                8256      \n",
      "_________________________________________________________________\n",
      "dropout_2 (Dropout)          (None, 64)                0         \n",
      "_________________________________________________________________\n",
      "dense_3 (Dense)              (None, 1)                 65        \n",
      "_________________________________________________________________\n",
      "dense_4 (Dense)              (None, 128)               256       \n",
      "_________________________________________________________________\n",
      "dropout_3 (Dropout)          (None, 128)               0         \n",
      "_________________________________________________________________\n",
      "dense_5 (Dense)              (None, 64)                8256      \n",
      "_________________________________________________________________\n",
      "dropout_4 (Dropout)          (None, 64)                0         \n",
      "_________________________________________________________________\n",
      "dense_6 (Dense)              (None, 1)                 65        \n",
      "=================================================================\n",
      "Total params: 720,065\n",
      "Trainable params: 720,065\n",
      "Non-trainable params: 0\n",
      "_________________________________________________________________\n"
     ]
    },
    {
     "name": "stderr",
     "output_type": "stream",
     "text": [
      "C:\\Users\\Dell\\anaconda3\\lib\\site-packages\\keras\\engine\\training.py:297: UserWarning: Discrepancy between trainable weights and collected trainable weights, did you set `model.trainable` without calling `model.compile` after ?\n",
      "  'Discrepancy between trainable weights and collected trainable'\n"
     ]
    }
   ],
   "source": [
    "model.summary()"
   ]
  },
  {
   "cell_type": "code",
   "execution_count": 12,
   "metadata": {},
   "outputs": [
    {
     "name": "stdout",
     "output_type": "stream",
     "text": [
      "WARNING:tensorflow:From C:\\Users\\Dell\\anaconda3\\lib\\site-packages\\tensorflow\\python\\ops\\nn_impl.py:180: add_dispatch_support.<locals>.wrapper (from tensorflow.python.ops.array_ops) is deprecated and will be removed in a future version.\n",
      "Instructions for updating:\n",
      "Use tf.where in 2.0, which has the same broadcast rule as np.where\n"
     ]
    }
   ],
   "source": [
    "#Compiling\n",
    "model.compile(optimizer = 'adam', loss = 'binary_crossentropy', metrics=['accuracy'])\n",
    "classifier=model"
   ]
  },
  {
   "cell_type": "code",
   "execution_count": 19,
   "metadata": {},
   "outputs": [],
   "source": [
    "#fit CNN to images\n",
    "from keras.preprocessing.image import ImageDataGenerator"
   ]
  },
  {
   "cell_type": "code",
   "execution_count": 20,
   "metadata": {},
   "outputs": [],
   "source": [
    "training_datagen = ImageDataGenerator(rescale = 1./255, shear_range = 0.2, zoom_range = 0.2, horizontal_flip = True)\n",
    "# print(training_datagen)"
   ]
  },
  {
   "cell_type": "code",
   "execution_count": 21,
   "metadata": {},
   "outputs": [],
   "source": [
    "testing_datagen = ImageDataGenerator(rescale=1./255)"
   ]
  },
  {
   "cell_type": "code",
   "execution_count": 22,
   "metadata": {},
   "outputs": [
    {
     "name": "stdout",
     "output_type": "stream",
     "text": [
      "Found 8000 images belonging to 2 classes.\n"
     ]
    }
   ],
   "source": [
    "training_set = training_datagen.flow_from_directory('dataset/training_set/',target_size=(64,64), batch_size = 32, class_mode = 'binary')"
   ]
  },
  {
   "cell_type": "code",
   "execution_count": 23,
   "metadata": {},
   "outputs": [
    {
     "name": "stdout",
     "output_type": "stream",
     "text": [
      "Found 2000 images belonging to 2 classes.\n"
     ]
    }
   ],
   "source": [
    "test_set = testing_datagen.flow_from_directory('dataset/test_set/',target_size=(64,64), batch_size = 32, class_mode = 'binary')"
   ]
  },
  {
   "cell_type": "code",
   "execution_count": 25,
   "metadata": {},
   "outputs": [
    {
     "name": "stdout",
     "output_type": "stream",
     "text": [
      "WARNING:tensorflow:From C:\\Users\\Dell\\anaconda3\\lib\\site-packages\\tensorflow\\python\\ops\\init_ops.py:97: calling VarianceScaling.__init__ (from tensorflow.python.ops.init_ops) with dtype is deprecated and will be removed in a future version.\n",
      "Instructions for updating:\n",
      "Call initializer instance with the dtype argument instead of passing it to the constructor\n",
      "WARNING:tensorflow:From C:\\Users\\Dell\\anaconda3\\lib\\site-packages\\tensorflow\\python\\ops\\init_ops.py:97: calling Zeros.__init__ (from tensorflow.python.ops.init_ops) with dtype is deprecated and will be removed in a future version.\n",
      "Instructions for updating:\n",
      "Call initializer instance with the dtype argument instead of passing it to the constructor\n",
      "WARNING:tensorflow:Large dropout rate: 0.6 (>0.5). In TensorFlow 2.x, dropout() uses dropout rate instead of keep_prob. Please ensure that this is intended.\n"
     ]
    }
   ],
   "source": [
    "# import tensorflow as tf\n",
    "# classifier= tf.keras.models.load_model(\"cat_vs_dog_model_9252.h5\")"
   ]
  },
  {
   "cell_type": "code",
   "execution_count": null,
   "metadata": {},
   "outputs": [
    {
     "name": "stdout",
     "output_type": "stream",
     "text": [
      "Epoch 1/25\n",
      "250/250 [==============================] - 45s 179ms/step - loss: 0.1726 - acc: 0.9268 - val_loss: 0.5860 - val_acc: 0.8175\n",
      "Epoch 2/25\n",
      "250/250 [==============================] - 42s 167ms/step - loss: 0.1777 - acc: 0.9247 - val_loss: 0.5637 - val_acc: 0.8270\n",
      "Epoch 3/25\n",
      "250/250 [==============================] - 43s 172ms/step - loss: 0.1716 - acc: 0.9286 - val_loss: 0.6288 - val_acc: 0.8080\n",
      "Epoch 4/25\n",
      "250/250 [==============================] - 42s 168ms/step - loss: 0.1633 - acc: 0.9349 - val_loss: 0.6155 - val_acc: 0.8260\n",
      "Epoch 5/25\n",
      "250/250 [==============================] - 41s 164ms/step - loss: 0.1707 - acc: 0.9315 - val_loss: 0.6770 - val_acc: 0.8110\n",
      "Epoch 6/25\n",
      "181/250 [====================>.........] - ETA: 10s - loss: 0.1632 - acc: 0.9332"
     ]
    }
   ],
   "source": [
    "classifier.fit_generator(training_set, steps_per_epoch=8000/32,epochs=25,validation_data=test_set,validation_steps=2000/32)"
   ]
  },
  {
   "cell_type": "code",
   "execution_count": 23,
   "metadata": {},
   "outputs": [],
   "source": [
    "classifier.save('cat_vs_dog_model_9629.h5')"
   ]
  },
  {
   "cell_type": "markdown",
   "metadata": {},
   "source": [
    "This saves functions saves:\n",
    " * The architecture of the model, allowing to re-creat the model\n",
    " * the weight of the model\n",
    " * the training configuration (loss, optimizer)\n",
    " * The state of the optimizer, allowing to resume training exactly where you left off"
   ]
  },
  {
   "cell_type": "code",
   "execution_count": 1,
   "metadata": {},
   "outputs": [
    {
     "name": "stderr",
     "output_type": "stream",
     "text": [
      "C:\\Users\\Dell\\anaconda3\\lib\\site-packages\\tensorflow\\python\\framework\\dtypes.py:516: FutureWarning: Passing (type, 1) or '1type' as a synonym of type is deprecated; in a future version of numpy, it will be understood as (type, (1,)) / '(1,)type'.\n",
      "  _np_qint8 = np.dtype([(\"qint8\", np.int8, 1)])\n",
      "C:\\Users\\Dell\\anaconda3\\lib\\site-packages\\tensorflow\\python\\framework\\dtypes.py:517: FutureWarning: Passing (type, 1) or '1type' as a synonym of type is deprecated; in a future version of numpy, it will be understood as (type, (1,)) / '(1,)type'.\n",
      "  _np_quint8 = np.dtype([(\"quint8\", np.uint8, 1)])\n",
      "C:\\Users\\Dell\\anaconda3\\lib\\site-packages\\tensorflow\\python\\framework\\dtypes.py:518: FutureWarning: Passing (type, 1) or '1type' as a synonym of type is deprecated; in a future version of numpy, it will be understood as (type, (1,)) / '(1,)type'.\n",
      "  _np_qint16 = np.dtype([(\"qint16\", np.int16, 1)])\n",
      "C:\\Users\\Dell\\anaconda3\\lib\\site-packages\\tensorflow\\python\\framework\\dtypes.py:519: FutureWarning: Passing (type, 1) or '1type' as a synonym of type is deprecated; in a future version of numpy, it will be understood as (type, (1,)) / '(1,)type'.\n",
      "  _np_quint16 = np.dtype([(\"quint16\", np.uint16, 1)])\n",
      "C:\\Users\\Dell\\anaconda3\\lib\\site-packages\\tensorflow\\python\\framework\\dtypes.py:520: FutureWarning: Passing (type, 1) or '1type' as a synonym of type is deprecated; in a future version of numpy, it will be understood as (type, (1,)) / '(1,)type'.\n",
      "  _np_qint32 = np.dtype([(\"qint32\", np.int32, 1)])\n",
      "C:\\Users\\Dell\\anaconda3\\lib\\site-packages\\tensorflow\\python\\framework\\dtypes.py:525: FutureWarning: Passing (type, 1) or '1type' as a synonym of type is deprecated; in a future version of numpy, it will be understood as (type, (1,)) / '(1,)type'.\n",
      "  np_resource = np.dtype([(\"resource\", np.ubyte, 1)])\n",
      "C:\\Users\\Dell\\anaconda3\\lib\\site-packages\\tensorboard\\compat\\tensorflow_stub\\dtypes.py:541: FutureWarning: Passing (type, 1) or '1type' as a synonym of type is deprecated; in a future version of numpy, it will be understood as (type, (1,)) / '(1,)type'.\n",
      "  _np_qint8 = np.dtype([(\"qint8\", np.int8, 1)])\n",
      "C:\\Users\\Dell\\anaconda3\\lib\\site-packages\\tensorboard\\compat\\tensorflow_stub\\dtypes.py:542: FutureWarning: Passing (type, 1) or '1type' as a synonym of type is deprecated; in a future version of numpy, it will be understood as (type, (1,)) / '(1,)type'.\n",
      "  _np_quint8 = np.dtype([(\"quint8\", np.uint8, 1)])\n",
      "C:\\Users\\Dell\\anaconda3\\lib\\site-packages\\tensorboard\\compat\\tensorflow_stub\\dtypes.py:543: FutureWarning: Passing (type, 1) or '1type' as a synonym of type is deprecated; in a future version of numpy, it will be understood as (type, (1,)) / '(1,)type'.\n",
      "  _np_qint16 = np.dtype([(\"qint16\", np.int16, 1)])\n",
      "C:\\Users\\Dell\\anaconda3\\lib\\site-packages\\tensorboard\\compat\\tensorflow_stub\\dtypes.py:544: FutureWarning: Passing (type, 1) or '1type' as a synonym of type is deprecated; in a future version of numpy, it will be understood as (type, (1,)) / '(1,)type'.\n",
      "  _np_quint16 = np.dtype([(\"quint16\", np.uint16, 1)])\n",
      "C:\\Users\\Dell\\anaconda3\\lib\\site-packages\\tensorboard\\compat\\tensorflow_stub\\dtypes.py:545: FutureWarning: Passing (type, 1) or '1type' as a synonym of type is deprecated; in a future version of numpy, it will be understood as (type, (1,)) / '(1,)type'.\n",
      "  _np_qint32 = np.dtype([(\"qint32\", np.int32, 1)])\n",
      "C:\\Users\\Dell\\anaconda3\\lib\\site-packages\\tensorboard\\compat\\tensorflow_stub\\dtypes.py:550: FutureWarning: Passing (type, 1) or '1type' as a synonym of type is deprecated; in a future version of numpy, it will be understood as (type, (1,)) / '(1,)type'.\n",
      "  np_resource = np.dtype([(\"resource\", np.ubyte, 1)])\n"
     ]
    }
   ],
   "source": [
    "import cv2\n",
    "import tensorflow as tf\n",
    "CATEGORIES = [\"Cat\",\"Dog\"]\n",
    "def prepare(filepath):\n",
    "    IMG_SIZE = 64\n",
    "    img_array = cv2.imread(filepath,1)\n",
    "    new_array = cv2.resize(img_array, (IMG_SIZE, IMG_SIZE))\n",
    "    return new_array.reshape(-1, IMG_SIZE, IMG_SIZE, 3)"
   ]
  },
  {
   "cell_type": "code",
   "execution_count": 2,
   "metadata": {},
   "outputs": [
    {
     "name": "stdout",
     "output_type": "stream",
     "text": [
      "WARNING:tensorflow:From C:\\Users\\Dell\\anaconda3\\lib\\site-packages\\tensorflow\\python\\ops\\init_ops.py:97: calling VarianceScaling.__init__ (from tensorflow.python.ops.init_ops) with dtype is deprecated and will be removed in a future version.\n",
      "Instructions for updating:\n",
      "Call initializer instance with the dtype argument instead of passing it to the constructor\n",
      "WARNING:tensorflow:From C:\\Users\\Dell\\anaconda3\\lib\\site-packages\\tensorflow\\python\\ops\\init_ops.py:97: calling Zeros.__init__ (from tensorflow.python.ops.init_ops) with dtype is deprecated and will be removed in a future version.\n",
      "Instructions for updating:\n",
      "Call initializer instance with the dtype argument instead of passing it to the constructor\n",
      "WARNING:tensorflow:Large dropout rate: 0.6 (>0.5). In TensorFlow 2.x, dropout() uses dropout rate instead of keep_prob. Please ensure that this is intended.\n",
      "WARNING:tensorflow:From C:\\Users\\Dell\\anaconda3\\lib\\site-packages\\tensorflow\\python\\ops\\nn_impl.py:180: add_dispatch_support.<locals>.wrapper (from tensorflow.python.ops.array_ops) is deprecated and will be removed in a future version.\n",
      "Instructions for updating:\n",
      "Use tf.where in 2.0, which has the same broadcast rule as np.where\n",
      "WARNING:tensorflow:Large dropout rate: 0.6 (>0.5). In TensorFlow 2.x, dropout() uses dropout rate instead of keep_prob. Please ensure that this is intended.\n",
      "WARNING:tensorflow:Large dropout rate: 0.6 (>0.5). In TensorFlow 2.x, dropout() uses dropout rate instead of keep_prob. Please ensure that this is intended.\n",
      "WARNING:tensorflow:Large dropout rate: 0.6 (>0.5). In TensorFlow 2.x, dropout() uses dropout rate instead of keep_prob. Please ensure that this is intended.\n"
     ]
    }
   ],
   "source": [
    "model1 = tf.keras.models.load_model(\"cat_vs_dog_model_9252.h5\")\n",
    "model2 = tf.keras.models.load_model(\"cat_vs_dog_model_9209.h5\")\n",
    "model3 = tf.keras.models.load_model(\"cat_vs_dog_model_9629.h5\")\n",
    "model4 = tf.keras.models.load_model(\"cat_vs_dog_model_acc_9143.h5\")\n",
    "# model.fit_generator(training_set, steps_per_epoch=8000/32,epochs=25,validation_data=test_set,validation_steps=2000/32)"
   ]
  },
  {
   "cell_type": "markdown",
   "metadata": {},
   "source": [
    "# Results"
   ]
  },
  {
   "cell_type": "code",
   "execution_count": 4,
   "metadata": {},
   "outputs": [
    {
     "name": "stdout",
     "output_type": "stream",
     "text": [
      "Dog\n",
      "Cat\n"
     ]
    }
   ],
   "source": [
    "prediction = model4.predict([prepare('dog.219.jpg')])\n",
    "print(CATEGORIES[int(prediction[0][0])])\n",
    "prediction = model4.predict([prepare('cat.jpg')])\n",
    "print(CATEGORIES[int(prediction[0][0])])"
   ]
  },
  {
   "cell_type": "code",
   "execution_count": 5,
   "metadata": {},
   "outputs": [
    {
     "name": "stdout",
     "output_type": "stream",
     "text": [
      "Cat\n"
     ]
    }
   ],
   "source": [
    "\n",
    "img= 'cat.4003'\n",
    "pred =(int(model1.predict([prepare(img+'.jpg')])+model2.predict([prepare(img+'.jpg')])+model3.predict([prepare(img+'.jpg')])+model4.predict([prepare(img+'.jpg')])))/4\n",
    "if (float(pred)<1/4):\n",
    "    print(CATEGORIES[0])\n",
    "else:\n",
    "    print(CATEGORIES[1])\n",
    "# print(float(pred))"
   ]
  },
  {
   "cell_type": "code",
   "execution_count": null,
   "metadata": {},
   "outputs": [],
   "source": []
  },
  {
   "cell_type": "code",
   "execution_count": null,
   "metadata": {},
   "outputs": [],
   "source": []
  },
  {
   "cell_type": "code",
   "execution_count": null,
   "metadata": {},
   "outputs": [],
   "source": []
  },
  {
   "cell_type": "markdown",
   "metadata": {},
   "source": [
    "# Loading different parameters of the model"
   ]
  },
  {
   "cell_type": "code",
   "execution_count": 54,
   "metadata": {},
   "outputs": [
    {
     "name": "stdout",
     "output_type": "stream",
     "text": [
      "WARNING:tensorflow:Large dropout rate: 0.6 (>0.5). In TensorFlow 2.x, dropout() uses dropout rate instead of keep_prob. Please ensure that this is intended.\n"
     ]
    }
   ],
   "source": [
    "from keras.models import load_model\n",
    "new_model = load_model('cat_vs_dog_model_9252.h5')"
   ]
  },
  {
   "cell_type": "code",
   "execution_count": 55,
   "metadata": {},
   "outputs": [
    {
     "name": "stdout",
     "output_type": "stream",
     "text": [
      "Model: \"sequential_3\"\n",
      "_________________________________________________________________\n",
      "Layer (type)                 Output Shape              Param #   \n",
      "=================================================================\n",
      "conv2d_5 (Conv2D)            (None, 62, 62, 32)        896       \n",
      "_________________________________________________________________\n",
      "max_pooling2d_5 (MaxPooling2 (None, 31, 31, 32)        0         \n",
      "_________________________________________________________________\n",
      "conv2d_6 (Conv2D)            (None, 29, 29, 32)        9248      \n",
      "_________________________________________________________________\n",
      "max_pooling2d_6 (MaxPooling2 (None, 14, 14, 32)        0         \n",
      "_________________________________________________________________\n",
      "flatten_2 (Flatten)          (None, 6272)              0         \n",
      "_________________________________________________________________\n",
      "dense_7 (Dense)              (None, 128)               802944    \n",
      "_________________________________________________________________\n",
      "dropout_5 (Dropout)          (None, 128)               0         \n",
      "_________________________________________________________________\n",
      "dense_8 (Dense)              (None, 64)                8256      \n",
      "_________________________________________________________________\n",
      "dropout_6 (Dropout)          (None, 64)                0         \n",
      "_________________________________________________________________\n",
      "dense_9 (Dense)              (None, 1)                 65        \n",
      "=================================================================\n",
      "Total params: 821,409\n",
      "Trainable params: 821,409\n",
      "Non-trainable params: 0\n",
      "_________________________________________________________________\n"
     ]
    }
   ],
   "source": [
    "new_model.summary()"
   ]
  },
  {
   "cell_type": "code",
   "execution_count": 56,
   "metadata": {},
   "outputs": [
    {
     "data": {
      "text/plain": [
       "[array([[[[ 1.19899146e-01,  5.96935675e-02, -1.69550255e-01,\n",
       "            4.70905900e-02, -1.70459807e-01, -1.87039182e-01,\n",
       "           -2.08019331e-01, -1.47812232e-01,  7.91626424e-02,\n",
       "           -1.99904263e-01, -1.19584933e-01, -1.72080562e-01,\n",
       "            1.23769484e-01, -8.15287158e-02, -1.10375196e-01,\n",
       "            1.72931496e-02, -8.71338174e-02, -1.91582683e-02,\n",
       "            1.42919803e-02,  7.56556317e-02,  5.76427728e-02,\n",
       "            6.50322884e-02,  1.25809655e-01, -1.04806595e-01,\n",
       "           -1.84761435e-01,  1.35756329e-01, -1.02308817e-01,\n",
       "           -1.10947661e-01, -1.11698024e-01,  4.39031497e-02,\n",
       "           -4.20763604e-02, -7.37610552e-03],\n",
       "          [-1.49612963e-01, -7.11654276e-02,  1.67587817e-01,\n",
       "           -1.30082071e-02, -2.26859882e-01, -2.83338010e-01,\n",
       "           -8.54065046e-02, -7.95695838e-03, -1.65136725e-01,\n",
       "           -2.17297286e-01, -4.85406965e-02,  7.42158070e-02,\n",
       "           -6.49390519e-02,  1.84788052e-02,  8.84178355e-02,\n",
       "            2.74320263e-02, -6.26042858e-02,  1.29382774e-01,\n",
       "           -1.60350323e-01, -1.59226179e-01, -2.79491283e-02,\n",
       "            1.89893290e-01, -5.99724166e-02, -2.38119647e-01,\n",
       "           -1.20417319e-01, -9.69623029e-02, -1.59651071e-01,\n",
       "           -1.57090411e-01, -1.00546435e-01,  1.03105485e-01,\n",
       "            1.59865081e-01,  1.35733083e-01],\n",
       "          [-1.31704733e-01, -4.94898371e-02, -1.03761733e-01,\n",
       "           -5.18539101e-02,  7.45559782e-02, -1.23310521e-01,\n",
       "            1.44490093e-01,  3.33800726e-02,  4.92035039e-02,\n",
       "           -5.79583012e-02, -1.45044718e-02,  3.07743880e-03,\n",
       "           -9.67886969e-02, -1.01957032e-02, -9.29727256e-02,\n",
       "           -1.17764212e-01, -8.08920525e-03,  5.90188801e-02,\n",
       "           -1.59666851e-01, -1.30051672e-01, -9.83116869e-03,\n",
       "            6.30633384e-02, -2.33638972e-01, -9.07960013e-02,\n",
       "            9.76397544e-02, -1.06030345e-01,  1.50860891e-01,\n",
       "            9.68587468e-04,  6.79214969e-02,  1.90844387e-01,\n",
       "            1.17529929e-01, -5.38941054e-03]],\n",
       " \n",
       "         [[-7.03226998e-02, -3.98117974e-02, -2.07163051e-01,\n",
       "           -1.83433801e-01,  1.21419430e-02, -9.82229635e-02,\n",
       "           -1.81962729e-01, -1.00377679e-01,  1.73005044e-01,\n",
       "           -1.25365570e-01, -1.82801578e-02, -2.03175738e-01,\n",
       "            5.91427721e-02, -4.22609262e-02, -5.13081215e-02,\n",
       "            6.32595494e-02, -2.51736432e-01, -1.07087465e-02,\n",
       "            1.69066489e-01,  1.25155225e-01,  1.08083434e-01,\n",
       "            9.10332575e-02,  5.05863875e-02, -4.01739702e-02,\n",
       "           -8.06467161e-02,  7.87925348e-02,  2.46257950e-02,\n",
       "           -2.29970366e-02,  3.95149291e-02,  1.08711801e-01,\n",
       "            5.69221377e-02,  2.27769345e-01],\n",
       "          [-8.62034038e-02,  1.08617641e-01,  1.07117124e-01,\n",
       "            6.61162138e-02, -2.73155659e-01, -1.15676932e-01,\n",
       "           -8.36875942e-03, -1.04839504e-01, -1.16611168e-01,\n",
       "           -8.17382932e-02,  3.59768956e-03,  7.63724651e-03,\n",
       "           -1.95108101e-01,  4.62803952e-02,  1.03430524e-01,\n",
       "           -1.08813830e-01, -8.67925659e-02, -2.25637689e-01,\n",
       "           -5.43829761e-02, -1.12956211e-01, -1.30119026e-01,\n",
       "            1.81136113e-02, -7.13324323e-02, -6.39266819e-02,\n",
       "            5.92369922e-02, -8.29962641e-03, -2.44721081e-02,\n",
       "            1.16116982e-02,  1.97542816e-01, -4.54143584e-02,\n",
       "           -1.03251562e-02,  1.49283499e-01],\n",
       "          [ 1.77807268e-02,  1.46467224e-01, -4.06099856e-02,\n",
       "            2.92878039e-02, -1.23772800e-01,  4.09331471e-02,\n",
       "            1.12913065e-01, -9.82178673e-02, -9.42511559e-02,\n",
       "           -4.12890166e-02, -2.62101684e-02, -6.83360547e-02,\n",
       "            3.67974266e-02, -1.09537840e-01, -4.10399139e-02,\n",
       "           -9.88417398e-03, -4.54267533e-03, -1.31774500e-01,\n",
       "           -1.26897588e-01, -4.34754454e-02, -8.85166004e-02,\n",
       "            1.12211883e-01, -1.99913353e-01, -9.84543264e-02,\n",
       "            1.58496350e-01,  1.07264094e-01,  1.24717150e-02,\n",
       "            8.34465399e-03, -7.71688968e-02, -9.70497057e-02,\n",
       "           -1.39984205e-01,  1.86246783e-01]],\n",
       " \n",
       "         [[-6.50271922e-02,  1.84197858e-01, -4.72448952e-02,\n",
       "            3.14186588e-02,  8.68895799e-02, -1.80829868e-01,\n",
       "           -2.05482155e-01, -2.20374577e-02,  1.81064591e-01,\n",
       "            1.47266045e-01, -8.94235354e-03, -2.11528882e-01,\n",
       "            1.15111798e-01,  7.42725236e-03,  4.59768251e-02,\n",
       "            3.41658406e-02, -1.39991254e-01, -1.26891330e-01,\n",
       "           -1.71033423e-02,  9.96755883e-02,  1.11159449e-02,\n",
       "            4.57221828e-02,  9.94035155e-02, -8.13774765e-02,\n",
       "           -1.72794804e-01, -1.52017638e-01, -1.59610927e-01,\n",
       "            1.49323300e-01,  9.66460928e-02, -6.67748973e-02,\n",
       "            3.79797518e-02, -3.64412703e-02],\n",
       "          [ 1.26636950e-02,  9.89542231e-02, -1.43611496e-02,\n",
       "            1.52753189e-01, -1.10012285e-01, -1.79896832e-01,\n",
       "            3.03265899e-02, -2.45732721e-02, -1.26317725e-01,\n",
       "           -2.55413167e-02, -8.83068815e-02,  9.25755652e-04,\n",
       "           -1.75418016e-02, -5.07892706e-02,  3.30037661e-02,\n",
       "           -5.58391139e-02, -1.44776389e-01, -2.68924892e-01,\n",
       "            1.61768943e-01, -1.72865883e-01, -1.22822493e-01,\n",
       "           -1.06730722e-02, -3.66059728e-02,  2.51497943e-02,\n",
       "            8.23632702e-02, -1.15668602e-01, -8.83224979e-02,\n",
       "            1.10753372e-01,  3.55682634e-02, -6.11872002e-02,\n",
       "           -1.66911110e-01,  9.53269098e-03],\n",
       "          [-1.55393124e-01,  1.58606872e-01,  2.39834730e-02,\n",
       "           -8.11952725e-02, -7.93374479e-02,  1.88157633e-02,\n",
       "            1.63227499e-01, -6.82315324e-03, -9.31904167e-02,\n",
       "            9.99563411e-02, -6.00400046e-02, -1.79600641e-02,\n",
       "            1.23659137e-03, -9.97838601e-02, -1.38179034e-01,\n",
       "           -4.09258343e-02, -1.57606944e-01, -1.37034999e-02,\n",
       "           -9.90735888e-02, -1.01007923e-01,  2.13514064e-02,\n",
       "            7.42755011e-02, -2.45620966e-01, -2.69745022e-01,\n",
       "            6.98223934e-02, -1.17787473e-01,  1.47128552e-01,\n",
       "            2.34613732e-01, -4.55905348e-02,  6.36599362e-02,\n",
       "           -1.52217209e-01,  1.24847710e-01]]],\n",
       " \n",
       " \n",
       "        [[[-4.52690199e-02, -4.19154204e-02, -1.97374165e-01,\n",
       "            4.83534411e-02, -2.01049685e-01, -1.69536561e-01,\n",
       "           -8.25721845e-02, -8.66456553e-02,  6.81885034e-02,\n",
       "           -8.88589248e-02, -2.32529268e-02, -6.99964687e-02,\n",
       "           -9.61687695e-03,  4.81559299e-02,  1.03589356e-01,\n",
       "            5.07840700e-02,  1.17213987e-01,  2.02745557e-01,\n",
       "           -1.44762963e-01, -1.44351438e-01, -1.27853587e-01,\n",
       "            4.82402109e-02,  1.15806915e-01, -9.24471021e-02,\n",
       "           -2.11112294e-02,  4.77832742e-02,  3.99814844e-02,\n",
       "            8.38871747e-02, -3.88760753e-02,  1.49239078e-01,\n",
       "           -7.43271559e-02,  1.11879058e-01],\n",
       "          [-1.85671508e-01, -1.17888905e-01,  2.01118886e-01,\n",
       "            7.95243233e-02, -2.43226394e-01,  5.30402884e-02,\n",
       "            6.33336827e-02, -7.62169510e-02,  3.49377878e-02,\n",
       "           -9.92566645e-02,  1.45384312e-01,  1.29671305e-01,\n",
       "           -8.21485445e-02, -1.59968644e-01,  1.31157339e-01,\n",
       "           -3.72348987e-02,  2.37919595e-02,  1.30481526e-01,\n",
       "           -1.66064203e-01, -3.00143301e-01,  2.45742146e-02,\n",
       "            1.76176354e-01, -4.62614782e-02, -7.16497973e-02,\n",
       "            1.14021346e-01, -3.70539026e-03, -2.27153320e-02,\n",
       "           -6.29723296e-02,  1.19162418e-01, -9.02984962e-02,\n",
       "           -1.55130893e-01,  2.32179910e-02],\n",
       "          [-5.86720183e-02, -1.71888277e-01, -4.11348939e-02,\n",
       "           -4.49752435e-02, -1.30406171e-01, -1.35122463e-01,\n",
       "            1.81325465e-01, -5.76684475e-02, -1.17011294e-01,\n",
       "           -1.27035692e-01,  1.10499948e-01, -1.18447162e-01,\n",
       "           -3.40316929e-02, -6.39213175e-02,  3.13719995e-02,\n",
       "           -3.02171167e-02, -3.08248792e-02,  8.50637630e-02,\n",
       "           -1.79138646e-01, -1.27499774e-01, -9.38058868e-02,\n",
       "            1.71635404e-01, -2.31142491e-01, -2.56663531e-01,\n",
       "            1.59454420e-02,  9.86351632e-03, -7.91471452e-03,\n",
       "           -2.59378906e-02,  1.30555145e-02,  1.24080986e-01,\n",
       "           -1.48417935e-01,  1.15230754e-01]],\n",
       " \n",
       "         [[ 9.41050798e-02,  5.31703513e-03, -8.82324651e-02,\n",
       "            1.42072691e-02,  5.05103357e-02, -3.29100229e-02,\n",
       "           -1.99802294e-01, -1.21434838e-01,  1.09893717e-01,\n",
       "            7.63384402e-02,  5.73196411e-02, -2.25527599e-01,\n",
       "            9.99240875e-02, -4.20893878e-02, -8.73255581e-02,\n",
       "            8.22159573e-02, -2.58120988e-02, -3.21373753e-02,\n",
       "            1.93183526e-01, -9.52506289e-02, -1.12880439e-01,\n",
       "            8.70018452e-02,  6.23215437e-02, -8.32277015e-02,\n",
       "           -8.50650147e-02,  2.10877791e-01,  5.27012870e-02,\n",
       "            4.25011106e-03, -1.30133137e-01,  1.05973072e-01,\n",
       "            5.42048030e-02,  1.53458983e-01],\n",
       "          [-1.28394634e-01, -1.46768978e-02,  5.95508367e-02,\n",
       "            2.41580699e-02,  2.25888360e-02, -1.10502988e-01,\n",
       "            3.00485594e-03, -7.30308145e-02, -7.29839280e-02,\n",
       "           -1.07312292e-01,  8.47561881e-02,  1.12033263e-01,\n",
       "           -3.42456028e-02, -1.09292902e-01, -6.82243854e-02,\n",
       "            1.05545633e-01, -5.57442717e-02,  2.07530390e-02,\n",
       "            9.31734145e-02, -1.11942671e-01,  4.90664281e-02,\n",
       "            1.22785501e-01,  1.07188962e-01, -2.23129079e-01,\n",
       "           -2.67283786e-02,  2.22819418e-01, -7.87581429e-02,\n",
       "           -9.04871672e-02,  7.92635009e-02,  4.76081017e-03,\n",
       "           -7.43273348e-02, -2.07365137e-02],\n",
       "          [-1.63074195e-01, -7.79217184e-02,  5.06766997e-02,\n",
       "           -3.60665992e-02, -9.23425332e-02,  1.09371312e-01,\n",
       "            4.33015265e-02, -1.28476366e-01, -3.58013511e-02,\n",
       "           -1.65951531e-02,  2.04054415e-01, -7.22624734e-02,\n",
       "           -1.25711992e-01,  6.90087900e-02,  1.84660722e-02,\n",
       "           -2.04387009e-01,  4.04838994e-02,  2.21319050e-02,\n",
       "            8.68654251e-02, -2.46322528e-01, -8.70931074e-02,\n",
       "           -9.48041975e-02, -1.62164211e-01, -4.58036289e-02,\n",
       "            5.50928824e-02,  9.91460904e-02, -6.70482367e-02,\n",
       "            1.18886538e-01, -1.97015196e-01,  4.43413912e-04,\n",
       "            1.59933511e-02,  1.40865549e-01]],\n",
       " \n",
       "         [[-1.01535924e-01,  8.15030485e-02, -2.07688347e-01,\n",
       "           -1.29322082e-01,  1.85938999e-01, -1.21775068e-01,\n",
       "           -1.72476709e-01,  3.65113579e-02,  1.84751883e-01,\n",
       "            7.87570626e-02,  7.37468228e-02, -5.86322881e-02,\n",
       "            7.63262585e-02, -2.24491879e-02, -7.35664517e-02,\n",
       "            6.54021874e-02, -4.14867364e-02, -1.22150540e-01,\n",
       "            1.82429656e-01,  9.13146585e-02,  1.25163510e-01,\n",
       "           -1.62238643e-01,  3.28687318e-02, -5.30526079e-02,\n",
       "           -1.51545107e-01, -1.04395144e-01, -1.13233015e-01,\n",
       "           -8.63154531e-02, -2.22261235e-01, -4.70461382e-05,\n",
       "           -8.87839496e-02, -1.37198091e-01],\n",
       "          [-1.19345814e-01,  1.25188023e-01,  6.23845160e-02,\n",
       "           -6.69912621e-02,  7.56308511e-02, -1.53690815e-01,\n",
       "            1.01900525e-01,  1.54792499e-02, -8.71896818e-02,\n",
       "           -9.83197838e-02,  6.46142587e-02,  1.50453791e-01,\n",
       "           -1.26845643e-01,  3.84237804e-02, -9.09176841e-02,\n",
       "           -3.80280204e-02, -2.78009754e-03, -1.95837185e-01,\n",
       "            1.53573543e-01, -1.20812096e-01, -4.03714776e-02,\n",
       "            1.08126581e-01, -3.60640101e-02, -1.23002887e-01,\n",
       "           -1.19677715e-01,  1.18239649e-01, -7.45330751e-02,\n",
       "           -1.50971085e-01, -1.67664364e-02, -1.00608043e-01,\n",
       "           -1.93653047e-01, -2.37465367e-01],\n",
       "          [-1.78524166e-01,  5.54090515e-02,  8.48076269e-02,\n",
       "            5.34562096e-02,  1.83811247e-01, -3.84539999e-02,\n",
       "            7.44228810e-02,  8.42475221e-02, -1.45866096e-01,\n",
       "           -7.68796057e-02,  6.98228776e-02, -8.79805908e-02,\n",
       "            2.23597419e-02, -1.33572131e-01, -2.03845039e-01,\n",
       "           -4.31066155e-02, -2.69805863e-02, -4.22128402e-02,\n",
       "           -5.61305955e-02, -1.95473433e-01, -1.52018532e-01,\n",
       "           -1.03813753e-01, -5.92197888e-02, -4.00235504e-02,\n",
       "            3.60671617e-02,  5.61040752e-02,  2.68417620e-03,\n",
       "            1.79601293e-02, -2.54221112e-01,  6.35907426e-02,\n",
       "            4.01276797e-02, -1.32693812e-01]]],\n",
       " \n",
       " \n",
       "        [[[ 1.58270285e-01, -1.16638839e-01, -1.26587674e-01,\n",
       "           -1.92138329e-01, -9.06189680e-02,  2.54013594e-02,\n",
       "            4.47690561e-02,  2.18836993e-01, -2.78275888e-02,\n",
       "            1.50253341e-01,  1.65940486e-02, -2.26001710e-01,\n",
       "            1.83086634e-01, -1.03897601e-01, -1.47854313e-01,\n",
       "            1.45362973e-01,  1.77297190e-01,  1.88717380e-01,\n",
       "           -3.82929528e-03,  3.93059403e-02,  3.12185455e-02,\n",
       "           -1.55107051e-01,  8.02107751e-02, -2.90004164e-02,\n",
       "            1.16999075e-01, -2.25293845e-01, -1.51298285e-01,\n",
       "           -9.55900028e-02,  8.64490941e-02, -2.29971901e-01,\n",
       "            2.29959060e-02, -3.54967006e-02],\n",
       "          [ 4.31798100e-02, -1.34029612e-01,  2.66152490e-02,\n",
       "            7.72403330e-02, -1.70156404e-01,  8.56601521e-02,\n",
       "           -1.11021556e-01,  2.40109153e-02,  3.79753783e-02,\n",
       "           -3.26065086e-02, -1.19142801e-01,  7.81967565e-02,\n",
       "           -2.03706957e-02, -1.70804933e-01, -7.41482899e-02,\n",
       "           -1.66681223e-02,  8.95280242e-02,  8.05522799e-02,\n",
       "           -3.97849530e-02, -1.82492882e-01,  6.70556054e-02,\n",
       "           -2.97818612e-02, -6.51548654e-02,  2.53689792e-02,\n",
       "            1.86899789e-02, -2.44991913e-01, -1.19945236e-01,\n",
       "           -1.55417994e-01,  9.13380980e-02, -1.67648181e-01,\n",
       "            1.52379228e-03,  9.76840481e-02],\n",
       "          [ 2.26504859e-02,  4.92287846e-03,  7.58873597e-02,\n",
       "           -9.32112783e-02,  1.40024915e-01,  4.76616845e-02,\n",
       "            1.67420581e-01,  8.25205147e-02, -4.29296009e-02,\n",
       "            9.46419761e-02, -7.23688453e-02,  9.53691900e-02,\n",
       "           -3.65209170e-02,  6.66537657e-02, -4.55504395e-02,\n",
       "           -1.10717088e-01,  4.06922586e-02,  6.89122900e-02,\n",
       "           -1.42663568e-01, -1.50988281e-01, -6.29779324e-02,\n",
       "            5.58875985e-02, -1.19462594e-01, -1.95282340e-01,\n",
       "            1.70640469e-01, -2.96054065e-01,  8.02797154e-02,\n",
       "            7.29595870e-02, -9.58194733e-02, -2.10399151e-01,\n",
       "           -9.61719379e-02, -8.44722614e-02]],\n",
       " \n",
       "         [[-1.14683315e-01, -1.83324903e-01, -2.01647669e-01,\n",
       "           -1.11519676e-02,  2.09262535e-01,  1.28437772e-01,\n",
       "            9.34581161e-02,  2.49402404e-01,  1.30705595e-01,\n",
       "            5.25080115e-02, -2.47557405e-02, -2.47644514e-01,\n",
       "            7.10788593e-02, -1.44848511e-01,  2.11841352e-02,\n",
       "            2.23214060e-01,  8.68382528e-02,  1.04089476e-01,\n",
       "            5.98954558e-02,  5.76871671e-02, -3.46931033e-02,\n",
       "           -5.86119965e-02,  1.41423285e-01,  1.31567456e-02,\n",
       "           -1.52485073e-01,  1.32413059e-02, -2.07393337e-02,\n",
       "           -1.62697345e-01,  4.74227294e-02, -2.36478284e-01,\n",
       "            7.88610429e-02, -2.33866319e-01],\n",
       "          [-1.62231937e-01, -1.05288997e-01,  1.57548726e-01,\n",
       "            4.02150936e-02,  1.85542926e-01,  4.07360978e-02,\n",
       "            4.27794307e-02,  1.71368033e-01, -7.46382996e-02,\n",
       "            6.94509968e-02, -1.52491733e-01,  1.51746511e-01,\n",
       "            1.21914014e-01, -5.03618829e-02,  9.46690962e-02,\n",
       "           -7.07545504e-02,  1.42404065e-01,  1.32023990e-01,\n",
       "            8.05048272e-02, -1.82957217e-01, -9.06228572e-02,\n",
       "            1.71537519e-01, -2.48075984e-02, -1.81106523e-01,\n",
       "            7.42764911e-04,  8.72900337e-02,  6.14036471e-02,\n",
       "           -1.24317482e-01,  1.59165978e-01, -2.27666181e-02,\n",
       "           -1.29865780e-01, -3.40813920e-02],\n",
       "          [-9.42090247e-03, -2.27853566e-01,  3.61427553e-02,\n",
       "           -1.92016795e-01,  1.30497277e-01, -1.24526368e-02,\n",
       "            1.10568173e-01,  1.26773670e-01, -7.91030601e-02,\n",
       "            1.14119649e-01, -1.99956354e-02,  9.01512057e-02,\n",
       "            2.16786247e-02, -3.32153775e-02,  4.86597233e-02,\n",
       "           -1.39074236e-01,  1.21220477e-01,  1.32301405e-01,\n",
       "            4.46821637e-02, -1.63235039e-01, -6.72303140e-02,\n",
       "           -1.16660953e-01, -2.71226704e-01, -1.37235224e-01,\n",
       "           -5.05227298e-02,  2.95087080e-02,  4.66950424e-02,\n",
       "           -1.02423280e-01, -1.02165125e-01,  7.27318227e-02,\n",
       "            1.82973389e-02, -4.66471314e-02]],\n",
       " \n",
       "         [[-1.42510151e-02,  8.63867030e-02, -7.11088106e-02,\n",
       "            6.86000511e-02,  4.66427915e-02,  1.01971310e-02,\n",
       "            6.94580525e-02,  2.09890157e-02,  8.21323544e-02,\n",
       "            1.77826703e-01, -7.09961681e-03,  1.16849383e-02,\n",
       "            1.27436534e-01, -1.54861555e-01,  5.17913848e-02,\n",
       "            1.93238512e-01,  1.26810625e-01, -1.27614513e-01,\n",
       "           -6.45193085e-03, -1.35698825e-01,  1.26898766e-01,\n",
       "           -1.34246334e-01, -1.99761577e-02,  2.90235244e-02,\n",
       "           -8.43328312e-02,  1.23420499e-01, -1.66629940e-01,\n",
       "           -6.47922009e-02, -4.96256500e-02, -1.88097775e-01,\n",
       "           -3.01530976e-02, -1.40410244e-01],\n",
       "          [-1.68035448e-01, -1.65418684e-01,  6.69970959e-02,\n",
       "            1.54757202e-01,  3.45034637e-02, -3.88452634e-02,\n",
       "           -1.38876900e-01, -3.92219126e-02, -1.07618041e-01,\n",
       "            7.09048510e-02, -1.27660021e-01, -9.24766660e-02,\n",
       "            1.03500657e-01, -1.21875264e-01, -7.06004873e-02,\n",
       "           -1.53882742e-01,  1.95892110e-01, -1.59291714e-01,\n",
       "            5.46680093e-02, -1.29699945e-01,  8.50383118e-02,\n",
       "           -2.03325041e-02, -1.39944345e-01,  4.02717851e-02,\n",
       "            9.04187933e-03,  7.12408125e-02, -1.35744452e-01,\n",
       "            1.83280017e-02,  2.16541290e-01, -1.28430992e-01,\n",
       "           -8.56446624e-02, -2.65203267e-01],\n",
       "          [ 3.97210494e-02,  6.53472096e-02, -5.28288707e-02,\n",
       "           -1.34639129e-01,  1.48297593e-01, -1.52035519e-01,\n",
       "            1.58977866e-01, -4.49812338e-02,  4.39500362e-02,\n",
       "            7.95777068e-02,  1.16614504e-02, -6.54652109e-03,\n",
       "            1.03312023e-01,  8.82787704e-02, -3.00899483e-02,\n",
       "           -1.52662806e-02, -5.70863932e-02, -7.73979723e-02,\n",
       "           -1.25619441e-01, -3.41799632e-02, -3.62543054e-02,\n",
       "           -6.63370863e-02, -2.13122353e-01, -5.02419062e-02,\n",
       "           -5.39571345e-02, -5.00300452e-02,  1.69222742e-01,\n",
       "           -7.67947435e-02,  1.31622449e-01,  7.06599280e-02,\n",
       "           -6.17487878e-02, -1.91653937e-01]]]], dtype=float32),\n",
       " array([ 1.00926526e-01, -3.38352174e-02,  1.64859146e-02, -5.45147583e-02,\n",
       "         1.39948204e-02, -3.99576835e-02,  5.09191444e-03,  3.65820602e-02,\n",
       "        -6.02008104e-02,  1.19617563e-02,  1.14402818e-02,  1.39251528e-02,\n",
       "        -2.02186212e-01, -2.35025641e-02, -6.57740701e-03, -3.86962593e-02,\n",
       "        -1.26552982e-02,  8.21698178e-03, -5.15195541e-02,  6.23332448e-02,\n",
       "        -9.09231976e-02, -1.56396374e-01, -9.17159766e-03,  9.14521664e-02,\n",
       "         3.01595367e-02,  2.73511349e-03, -2.17796266e-02,  1.24570644e-02,\n",
       "        -1.42471800e-02, -3.01494729e-05,  1.02187425e-01,  1.45204868e-02],\n",
       "       dtype=float32),\n",
       " array([[[[-1.25327166e-02, -1.71430960e-01, -2.33746562e-02, ...,\n",
       "           -7.85829648e-02, -1.60488173e-01, -2.99583614e-01],\n",
       "          [-1.71653926e-01,  8.83216336e-02, -1.17935389e-01, ...,\n",
       "           -1.58370420e-01,  2.09047467e-01,  2.79834792e-02],\n",
       "          [-1.28500357e-01, -2.13308096e-01, -5.22715747e-02, ...,\n",
       "           -1.15842506e-01,  5.59404939e-02, -1.38446204e-02],\n",
       "          ...,\n",
       "          [-1.23072237e-01, -1.14091977e-01, -6.92569464e-02, ...,\n",
       "           -5.01638278e-02, -1.99135356e-02,  1.06853329e-01],\n",
       "          [-1.44537613e-01, -1.11190593e-02, -3.34572382e-02, ...,\n",
       "           -3.83656695e-02, -1.14982367e-01, -1.84592187e-01],\n",
       "          [-1.45905107e-01, -1.88916996e-02,  8.53276476e-02, ...,\n",
       "           -7.80567154e-02, -1.17566600e-01,  1.93245739e-01]],\n",
       " \n",
       "         [[ 5.35314828e-02, -1.17958672e-01, -1.39720872e-01, ...,\n",
       "           -1.38961121e-01, -1.14333354e-01, -6.14620373e-02],\n",
       "          [-7.84576461e-02, -3.12442984e-03,  6.02087006e-02, ...,\n",
       "            7.79604167e-02,  8.78272802e-02, -1.64633188e-02],\n",
       "          [-1.72188267e-01, -1.09209500e-01, -7.09950253e-02, ...,\n",
       "           -2.02224761e-01,  3.89661863e-02, -2.12390423e-01],\n",
       "          ...,\n",
       "          [-1.56632677e-01, -1.82303004e-02,  7.69810900e-02, ...,\n",
       "            4.53763679e-02,  9.28426757e-02,  9.57517698e-02],\n",
       "          [-8.40357542e-02, -1.00562172e-02, -8.30391869e-02, ...,\n",
       "           -4.47044522e-02, -7.29158297e-02,  5.79205602e-02],\n",
       "          [-2.08357438e-01, -1.06236026e-01, -3.50560546e-02, ...,\n",
       "           -1.31677285e-01,  1.35182659e-03, -7.38533288e-02]],\n",
       " \n",
       "         [[-7.80632868e-02,  2.37996690e-02, -5.17986752e-02, ...,\n",
       "           -2.21399516e-01, -1.43208921e-01, -3.20446771e-03],\n",
       "          [ 6.43128380e-02,  3.30303796e-02, -1.52055232e-03, ...,\n",
       "           -9.16294828e-02, -1.63192481e-01,  8.92220736e-02],\n",
       "          [-2.11649522e-01, -2.22767264e-01, -6.23821467e-02, ...,\n",
       "           -2.87124038e-01, -2.06450373e-02, -9.61215198e-02],\n",
       "          ...,\n",
       "          [-9.77297276e-02,  4.15002704e-02, -7.04105198e-02, ...,\n",
       "           -2.83731315e-02, -4.90761586e-02, -2.96454746e-02],\n",
       "          [-1.50851086e-02, -1.11453921e-01, -2.59373579e-02, ...,\n",
       "           -4.69730683e-02, -1.37542889e-01,  1.58724338e-01],\n",
       "          [-1.16711944e-01, -6.04360976e-05,  1.32024754e-02, ...,\n",
       "           -2.86167488e-02,  2.31751919e-01,  4.09435295e-02]]],\n",
       " \n",
       " \n",
       "        [[[ 9.76177976e-02,  7.07294643e-02, -8.10621604e-02, ...,\n",
       "           -1.50621146e-01, -6.86165094e-02, -4.13724445e-02],\n",
       "          [-1.22454032e-01, -1.12703040e-01, -1.16236612e-01, ...,\n",
       "           -1.13919102e-01,  6.62245601e-02,  1.12559441e-02],\n",
       "          [-1.50064051e-01, -1.47917911e-01, -3.78552452e-02, ...,\n",
       "           -2.06627607e-01, -9.74034593e-02, -2.72145241e-01],\n",
       "          ...,\n",
       "          [ 6.99516328e-04, -1.09389126e-01, -4.01380695e-02, ...,\n",
       "            8.72742161e-02, -1.21951930e-01,  8.29819068e-02],\n",
       "          [-5.09377867e-02,  5.80113158e-02, -7.83269182e-02, ...,\n",
       "           -4.25567739e-02,  2.09475565e-03, -1.00566141e-01],\n",
       "          [ 1.59649104e-01, -3.41605465e-03, -3.63518074e-02, ...,\n",
       "           -1.32196069e-01,  3.84204723e-02,  1.09758871e-02]],\n",
       " \n",
       "         [[ 6.41040280e-02,  7.50545710e-02, -8.91178176e-02, ...,\n",
       "           -1.74899831e-01,  6.84107020e-02, -1.64504305e-01],\n",
       "          [-2.62661517e-01,  8.14742297e-02,  6.23549074e-02, ...,\n",
       "           -1.34561300e-01, -5.48269926e-03, -3.66335511e-02],\n",
       "          [-3.53794023e-02, -6.49480745e-02,  3.36941592e-02, ...,\n",
       "           -1.64646417e-01, -2.18332872e-01, -1.38970450e-01],\n",
       "          ...,\n",
       "          [-1.03782572e-01, -1.48867846e-01, -6.51981756e-02, ...,\n",
       "           -9.76670533e-02,  8.49528387e-02, -1.70300692e-01],\n",
       "          [ 8.85280520e-02, -3.94852236e-02, -3.24000679e-02, ...,\n",
       "           -3.28920335e-02, -1.18166439e-01,  3.40328515e-02],\n",
       "          [-6.69048950e-02,  2.39625294e-02, -1.06958263e-01, ...,\n",
       "            3.10364962e-02,  1.95042282e-01, -2.43538409e-01]],\n",
       " \n",
       "         [[ 5.48468903e-04, -8.50613602e-03, -1.99474059e-02, ...,\n",
       "           -8.39926600e-02,  7.16761276e-02, -1.46795779e-01],\n",
       "          [-1.74190793e-02,  9.58806127e-02,  3.33265290e-02, ...,\n",
       "           -1.24020927e-01, -6.01118281e-02, -1.27307415e-01],\n",
       "          [-2.27762073e-01, -1.72979459e-01,  5.66058308e-02, ...,\n",
       "           -2.24758908e-01, -2.77060091e-01, -1.98457837e-02],\n",
       "          ...,\n",
       "          [-1.32814571e-01, -5.16482405e-02,  2.72621084e-02, ...,\n",
       "           -1.12178937e-01,  1.76073477e-01, -1.34804428e-01],\n",
       "          [-1.95834972e-02, -5.47017306e-02,  4.09560949e-02, ...,\n",
       "           -3.01076174e-02, -1.07378654e-01,  4.03296500e-02],\n",
       "          [-2.18186677e-02, -3.60683985e-02,  6.77744043e-04, ...,\n",
       "           -3.46711762e-02,  1.35624096e-01,  2.88805157e-01]]],\n",
       " \n",
       " \n",
       "        [[[-3.40025760e-02, -1.51467957e-02, -1.03243038e-01, ...,\n",
       "           -1.33385032e-01,  1.76898792e-01,  4.64928821e-02],\n",
       "          [-6.93979338e-02, -3.76862399e-02,  7.42580220e-02, ...,\n",
       "           -9.08890367e-02,  1.28106356e-01,  2.24194787e-02],\n",
       "          [-1.24665119e-01, -2.28174329e-02, -5.22962399e-02, ...,\n",
       "           -2.48341858e-01, -2.27984518e-01, -1.41410261e-01],\n",
       "          ...,\n",
       "          [-2.14699939e-01, -3.94193530e-02, -7.85688981e-02, ...,\n",
       "           -8.38453844e-02, -1.30417839e-01, -2.61242464e-02],\n",
       "          [ 2.59207264e-02,  9.12932307e-02, -3.73581462e-02, ...,\n",
       "           -8.68170038e-02,  1.22884855e-01, -1.67257220e-01],\n",
       "          [-1.85425077e-02,  8.09966475e-02,  7.09529966e-02, ...,\n",
       "           -9.35574546e-02, -8.43921751e-02, -8.77896398e-02]],\n",
       " \n",
       "         [[ 9.29849371e-02,  9.73407552e-02,  5.23776710e-02, ...,\n",
       "           -8.89698043e-02,  5.36784604e-02, -1.84782207e-01],\n",
       "          [-7.51542598e-02,  7.28786588e-02, -5.29708304e-02, ...,\n",
       "           -7.28583410e-02,  1.12861574e-01, -3.81966196e-02],\n",
       "          [-4.44304682e-02, -1.28096655e-01, -3.27456370e-02, ...,\n",
       "           -6.46843165e-02, -1.53921947e-01, -1.31451488e-01],\n",
       "          ...,\n",
       "          [-2.25904852e-01, -1.35544643e-01, -6.44314364e-02, ...,\n",
       "            2.69992072e-02,  1.16449893e-01, -1.97726339e-01],\n",
       "          [ 1.59331821e-02,  1.52058706e-01, -2.70260610e-02, ...,\n",
       "           -1.19680107e-01,  8.06938410e-02, -5.39279170e-02],\n",
       "          [ 2.00716928e-01,  4.70714308e-02,  6.34784698e-02, ...,\n",
       "           -4.08083089e-02, -2.48598903e-02,  1.22445680e-01]],\n",
       " \n",
       "         [[-1.29517645e-03, -3.45256040e-03, -1.79091822e-02, ...,\n",
       "            2.06455663e-02,  1.66302517e-01,  5.75344674e-02],\n",
       "          [-6.98523968e-02,  8.00451636e-02, -1.09785050e-01, ...,\n",
       "           -9.18991566e-02, -2.69901063e-02, -1.82281598e-01],\n",
       "          [-8.22509006e-02, -1.00809254e-01,  1.29366934e-01, ...,\n",
       "           -4.01537158e-02, -1.07987635e-01, -1.71904385e-01],\n",
       "          ...,\n",
       "          [-7.48077407e-02, -8.72768909e-02,  5.84549308e-02, ...,\n",
       "            4.34931647e-03,  1.49331773e-02, -4.89172451e-02],\n",
       "          [ 1.70120835e-01, -4.14761566e-02, -4.05367278e-03, ...,\n",
       "           -4.83860634e-02,  8.00460130e-02,  5.15822433e-02],\n",
       "          [-3.49764749e-02, -1.22851923e-01,  1.14303149e-01, ...,\n",
       "           -1.60874069e-01,  6.46132678e-02,  2.54697651e-01]]]],\n",
       "       dtype=float32),\n",
       " array([-0.01198738,  0.08541951, -0.04029028, -0.02875933, -0.08651828,\n",
       "        -0.04503917, -0.02763199, -0.00412772,  0.09028918, -0.08626182,\n",
       "        -0.03172552, -0.05398082,  0.00198682,  0.03847012, -0.05361394,\n",
       "        -0.05300962,  0.02390144, -0.02087132, -0.11287872, -0.02551145,\n",
       "         0.02677811, -0.0263337 , -0.02156222, -0.06373908, -0.00048076,\n",
       "        -0.04913438, -0.03587553, -0.05806375,  0.03724819,  0.05372788,\n",
       "         0.04128923, -0.02673501], dtype=float32),\n",
       " array([[-0.02066144, -0.00404894, -0.02726454, ...,  0.04896784,\n",
       "         -0.01027708, -0.00117979],\n",
       "        [ 0.04675522,  0.00634325, -0.01921255, ...,  0.0640538 ,\n",
       "         -0.01813934, -0.01313416],\n",
       "        [-0.00040374,  0.05189032,  0.00476242, ..., -0.05081305,\n",
       "          0.00952953, -0.03754447],\n",
       "        ...,\n",
       "        [-0.01920671, -0.1128324 , -0.00839041, ..., -0.04826788,\n",
       "         -0.01894899, -0.01049377],\n",
       "        [-0.03863579,  0.1099226 , -0.00771931, ..., -0.08808999,\n",
       "         -0.01503799,  0.00322818],\n",
       "        [-0.02580808,  0.11665495,  0.00029091, ...,  0.045839  ,\n",
       "         -0.00674689,  0.00637909]], dtype=float32),\n",
       " array([-0.02665172,  0.16051693, -0.02666618, -0.10514724, -0.06569184,\n",
       "         0.19294815, -0.01188137,  0.16098833, -0.02743327, -0.10156307,\n",
       "        -0.01225716, -0.01519435,  0.08851571, -0.00612304, -0.05656463,\n",
       "        -0.02027276,  0.01835742, -0.02888289, -0.04251522, -0.01278509,\n",
       "         0.1389998 , -0.04721743, -0.0140372 , -0.01358128, -0.02135688,\n",
       "         0.16917181,  0.19680908, -0.02046769, -0.00989224, -0.10136889,\n",
       "        -0.03085617, -0.01253326, -0.0075452 , -0.03449521, -0.02561076,\n",
       "        -0.02197623, -0.01935569, -0.00889806, -0.09792401,  0.00116264,\n",
       "        -0.07369118,  0.200294  ,  0.18216139, -0.06646629, -0.11365062,\n",
       "         0.15687369, -0.01582894, -0.01638548, -0.01277351, -0.01959091,\n",
       "         0.05257215, -0.02367029, -0.01205074, -0.05294622, -0.00282389,\n",
       "        -0.01344899, -0.02773685, -0.00600454,  0.07346789, -0.02407084,\n",
       "        -0.02345232, -0.02302823, -0.0195545 , -0.00581634, -0.0876244 ,\n",
       "        -0.07379358, -0.04762102, -0.0339163 , -0.01230171, -0.04176391,\n",
       "        -0.01657077,  0.1660806 , -0.09779315, -0.07985043,  0.1224796 ,\n",
       "        -0.11701739, -0.0275259 , -0.06319689, -0.0447899 , -0.05665961,\n",
       "        -0.01484482, -0.0224166 , -0.02009586, -0.03914095,  0.15845037,\n",
       "         0.14035252, -0.01131772, -0.08750199, -0.04755193, -0.02436508,\n",
       "         0.10128167, -0.02640266,  0.1917414 , -0.01358006, -0.03073671,\n",
       "        -0.09939226, -0.01681277, -0.03159966, -0.02426817, -0.01989769,\n",
       "        -0.02162233,  0.15658578, -0.07527051, -0.0106857 , -0.03887172,\n",
       "         0.18811826,  0.18175304, -0.03281696, -0.00880435, -0.02967177,\n",
       "         0.03079651, -0.09314457, -0.06517325, -0.04627908, -0.05018213,\n",
       "         0.17583364, -0.00610186,  0.19625875,  0.06812449, -0.0232716 ,\n",
       "        -0.01417212, -0.02060828, -0.0946486 , -0.02570763, -0.02135477,\n",
       "        -0.06928341, -0.00717943, -0.02168274], dtype=float32),\n",
       " array([[-0.00535662,  0.08137859, -0.13464482, ..., -0.15849592,\n",
       "         -0.07416465, -0.05853914],\n",
       "        [ 0.01260896, -0.13427424,  0.06465232, ..., -0.15696776,\n",
       "         -0.21869817,  0.01707275],\n",
       "        [ 0.020984  , -0.09188451, -0.09253206, ..., -0.00298959,\n",
       "          0.10430083, -0.13316382],\n",
       "        ...,\n",
       "        [-0.04218577,  0.11992247,  0.0118365 , ..., -0.12280555,\n",
       "          0.01523819, -0.18789604],\n",
       "        [ 0.06292591, -0.13137104, -0.1522364 , ..., -0.17309909,\n",
       "         -0.14091538,  0.06705672],\n",
       "        [-0.16461751, -0.03759819, -0.02575832, ...,  0.09519736,\n",
       "          0.09671222, -0.13229972]], dtype=float32),\n",
       " array([ 0.18431726,  0.08922423,  0.10539191,  0.1441726 ,  0.03211652,\n",
       "         0.1524129 ,  0.08370477,  0.11888404,  0.02155546,  0.05213177,\n",
       "         0.10080553,  0.14873946,  0.08659214,  0.15070567,  0.05314422,\n",
       "         0.08061816,  0.11849031,  0.10706452,  0.07222918,  0.10126191,\n",
       "         0.09864541, -0.03555777,  0.11470839,  0.24749532,  0.0568769 ,\n",
       "         0.1230473 ,  0.12669913,  0.06606074,  0.05289903,  0.11591323,\n",
       "        -0.00843214, -0.08113074,  0.11773977,  0.07887882,  0.20867202,\n",
       "         0.09964094,  0.17829579,  0.1087337 ,  0.08818492,  0.08142685,\n",
       "         0.12430692,  0.0998539 ,  0.05630134,  0.00521721,  0.01471904,\n",
       "         0.14671233,  0.08719871,  0.10613809,  0.08347803,  0.02533125,\n",
       "         0.1509736 , -0.00757073,  0.02449697,  0.06182991,  0.05087452,\n",
       "         0.09399322,  0.14889248,  0.07821909,  0.039343  ,  0.09147567,\n",
       "         0.06464646,  0.1425151 ,  0.12641014,  0.04237473], dtype=float32),\n",
       " array([[-0.15279041],\n",
       "        [ 0.09407005],\n",
       "        [-0.17519963],\n",
       "        [-0.2506788 ],\n",
       "        [-0.185868  ],\n",
       "        [-0.3001765 ],\n",
       "        [-0.22437696],\n",
       "        [-0.20327781],\n",
       "        [-0.08983561],\n",
       "        [ 0.21867631],\n",
       "        [-0.2262126 ],\n",
       "        [-0.22419327],\n",
       "        [ 0.10703462],\n",
       "        [ 0.26041177],\n",
       "        [ 0.16395761],\n",
       "        [ 0.18308906],\n",
       "        [-0.13646485],\n",
       "        [ 0.200022  ],\n",
       "        [ 0.13500614],\n",
       "        [-0.1889238 ],\n",
       "        [ 0.24532494],\n",
       "        [-0.03309715],\n",
       "        [ 0.12491405],\n",
       "        [-0.19150403],\n",
       "        [ 0.1380058 ],\n",
       "        [-0.15772913],\n",
       "        [ 0.08556959],\n",
       "        [ 0.08497123],\n",
       "        [ 0.26941013],\n",
       "        [ 0.18232617],\n",
       "        [ 0.27110735],\n",
       "        [ 0.08185665],\n",
       "        [-0.07335847],\n",
       "        [ 0.10692963],\n",
       "        [-0.16542715],\n",
       "        [-0.17363842],\n",
       "        [-0.19347425],\n",
       "        [ 0.17271708],\n",
       "        [ 0.19136408],\n",
       "        [ 0.23953961],\n",
       "        [-0.2140005 ],\n",
       "        [-0.18074898],\n",
       "        [ 0.07444244],\n",
       "        [ 0.13768752],\n",
       "        [ 0.02845457],\n",
       "        [-0.12922016],\n",
       "        [-0.25454542],\n",
       "        [-0.14770006],\n",
       "        [ 0.22066273],\n",
       "        [ 0.19531165],\n",
       "        [-0.2781695 ],\n",
       "        [-0.15982354],\n",
       "        [ 0.2218381 ],\n",
       "        [ 0.10276682],\n",
       "        [ 0.11803966],\n",
       "        [-0.19461846],\n",
       "        [-0.2497198 ],\n",
       "        [ 0.14686094],\n",
       "        [ 0.26379237],\n",
       "        [ 0.16837034],\n",
       "        [ 0.22488908],\n",
       "        [-0.15914108],\n",
       "        [ 0.2743431 ],\n",
       "        [ 0.2955982 ]], dtype=float32),\n",
       " array([-0.06157818], dtype=float32)]"
      ]
     },
     "execution_count": 56,
     "metadata": {},
     "output_type": "execute_result"
    }
   ],
   "source": [
    "new_model.get_weights()"
   ]
  },
  {
   "cell_type": "code",
   "execution_count": 57,
   "metadata": {},
   "outputs": [
    {
     "data": {
      "text/plain": [
       "<keras.optimizers.Adam at 0x1f39e86da88>"
      ]
     },
     "execution_count": 57,
     "metadata": {},
     "output_type": "execute_result"
    }
   ],
   "source": [
    "new_model.optimizer"
   ]
  },
  {
   "cell_type": "markdown",
   "metadata": {},
   "source": [
    "# 2. model.to_json()"
   ]
  },
  {
   "cell_type": "markdown",
   "metadata": {},
   "source": [
    "if you only need to save the architecture of a model, and not its weights or its training configuration, you can use the following function to save the architecture only"
   ]
  },
  {
   "cell_type": "code",
   "execution_count": 58,
   "metadata": {},
   "outputs": [],
   "source": [
    "#save as Json\n",
    "json_string = model.to_json()\n",
    "\n",
    "#save as YAML\n",
    "#yaml_string =model.to_yaml()"
   ]
  },
  {
   "cell_type": "code",
   "execution_count": 59,
   "metadata": {},
   "outputs": [
    {
     "data": {
      "text/plain": [
       "'{\"class_name\": \"Sequential\", \"config\": {\"name\": \"sequential_3\", \"layers\": [{\"class_name\": \"Conv2D\", \"config\": {\"name\": \"conv2d_5\", \"trainable\": true, \"batch_input_shape\": [null, 64, 64, 3], \"dtype\": \"float32\", \"filters\": 32, \"kernel_size\": [3, 3], \"strides\": [1, 1], \"padding\": \"valid\", \"data_format\": \"channels_last\", \"dilation_rate\": [1, 1], \"activation\": \"relu\", \"use_bias\": true, \"kernel_initializer\": {\"class_name\": \"VarianceScaling\", \"config\": {\"scale\": 1.0, \"mode\": \"fan_avg\", \"distribution\": \"uniform\", \"seed\": null}}, \"bias_initializer\": {\"class_name\": \"Zeros\", \"config\": {}}, \"kernel_regularizer\": null, \"bias_regularizer\": null, \"activity_regularizer\": null, \"kernel_constraint\": null, \"bias_constraint\": null}}, {\"class_name\": \"MaxPooling2D\", \"config\": {\"name\": \"max_pooling2d_5\", \"trainable\": true, \"dtype\": \"float32\", \"pool_size\": [2, 2], \"padding\": \"valid\", \"strides\": [2, 2], \"data_format\": \"channels_last\"}}, {\"class_name\": \"Conv2D\", \"config\": {\"name\": \"conv2d_6\", \"trainable\": true, \"dtype\": \"float32\", \"filters\": 32, \"kernel_size\": [3, 3], \"strides\": [1, 1], \"padding\": \"valid\", \"data_format\": \"channels_last\", \"dilation_rate\": [1, 1], \"activation\": \"relu\", \"use_bias\": true, \"kernel_initializer\": {\"class_name\": \"VarianceScaling\", \"config\": {\"scale\": 1.0, \"mode\": \"fan_avg\", \"distribution\": \"uniform\", \"seed\": null}}, \"bias_initializer\": {\"class_name\": \"Zeros\", \"config\": {}}, \"kernel_regularizer\": null, \"bias_regularizer\": null, \"activity_regularizer\": null, \"kernel_constraint\": null, \"bias_constraint\": null}}, {\"class_name\": \"MaxPooling2D\", \"config\": {\"name\": \"max_pooling2d_6\", \"trainable\": true, \"dtype\": \"float32\", \"pool_size\": [2, 2], \"padding\": \"valid\", \"strides\": [2, 2], \"data_format\": \"channels_last\"}}, {\"class_name\": \"Flatten\", \"config\": {\"name\": \"flatten_2\", \"trainable\": true, \"dtype\": \"float32\", \"data_format\": \"channels_last\"}}, {\"class_name\": \"Dense\", \"config\": {\"name\": \"dense_7\", \"trainable\": true, \"dtype\": \"float32\", \"units\": 128, \"activation\": \"relu\", \"use_bias\": true, \"kernel_initializer\": {\"class_name\": \"VarianceScaling\", \"config\": {\"scale\": 1.0, \"mode\": \"fan_avg\", \"distribution\": \"uniform\", \"seed\": null}}, \"bias_initializer\": {\"class_name\": \"Zeros\", \"config\": {}}, \"kernel_regularizer\": null, \"bias_regularizer\": null, \"activity_regularizer\": null, \"kernel_constraint\": null, \"bias_constraint\": null}}, {\"class_name\": \"Dropout\", \"config\": {\"name\": \"dropout_5\", \"trainable\": true, \"dtype\": \"float32\", \"rate\": 0.6, \"noise_shape\": null, \"seed\": null}}, {\"class_name\": \"Dense\", \"config\": {\"name\": \"dense_8\", \"trainable\": true, \"dtype\": \"float32\", \"units\": 64, \"activation\": \"relu\", \"use_bias\": true, \"kernel_initializer\": {\"class_name\": \"VarianceScaling\", \"config\": {\"scale\": 1.0, \"mode\": \"fan_avg\", \"distribution\": \"uniform\", \"seed\": null}}, \"bias_initializer\": {\"class_name\": \"Zeros\", \"config\": {}}, \"kernel_regularizer\": null, \"bias_regularizer\": null, \"activity_regularizer\": null, \"kernel_constraint\": null, \"bias_constraint\": null}}, {\"class_name\": \"Dropout\", \"config\": {\"name\": \"dropout_6\", \"trainable\": true, \"dtype\": \"float32\", \"rate\": 0.3, \"noise_shape\": null, \"seed\": null}}, {\"class_name\": \"Dense\", \"config\": {\"name\": \"dense_9\", \"trainable\": true, \"dtype\": \"float32\", \"units\": 1, \"activation\": \"sigmoid\", \"use_bias\": true, \"kernel_initializer\": {\"class_name\": \"VarianceScaling\", \"config\": {\"scale\": 1.0, \"mode\": \"fan_avg\", \"distribution\": \"uniform\", \"seed\": null}}, \"bias_initializer\": {\"class_name\": \"Zeros\", \"config\": {}}, \"kernel_regularizer\": null, \"bias_regularizer\": null, \"activity_regularizer\": null, \"kernel_constraint\": null, \"bias_constraint\": null}}]}, \"keras_version\": \"2.3.1\", \"backend\": \"tensorflow\"}'"
      ]
     },
     "execution_count": 59,
     "metadata": {},
     "output_type": "execute_result"
    }
   ],
   "source": [
    "json_string"
   ]
  },
  {
   "cell_type": "code",
   "execution_count": 60,
   "metadata": {},
   "outputs": [],
   "source": [
    "#model reconstruction from JSON:\n",
    "from keras.models import model_from_json\n",
    "model_architecture = model_from_json(json_string)\n",
    "\n",
    "#model reconstruction from YAML\n",
    "#from keras.model import model_from_yaml\n",
    "#model = model_from_yaml(yaml_string)"
   ]
  },
  {
   "cell_type": "code",
   "execution_count": 61,
   "metadata": {},
   "outputs": [
    {
     "name": "stdout",
     "output_type": "stream",
     "text": [
      "Model: \"sequential_3\"\n",
      "_________________________________________________________________\n",
      "Layer (type)                 Output Shape              Param #   \n",
      "=================================================================\n",
      "conv2d_5 (Conv2D)            (None, 62, 62, 32)        896       \n",
      "_________________________________________________________________\n",
      "max_pooling2d_5 (MaxPooling2 (None, 31, 31, 32)        0         \n",
      "_________________________________________________________________\n",
      "conv2d_6 (Conv2D)            (None, 29, 29, 32)        9248      \n",
      "_________________________________________________________________\n",
      "max_pooling2d_6 (MaxPooling2 (None, 14, 14, 32)        0         \n",
      "_________________________________________________________________\n",
      "flatten_2 (Flatten)          (None, 6272)              0         \n",
      "_________________________________________________________________\n",
      "dense_7 (Dense)              (None, 128)               802944    \n",
      "_________________________________________________________________\n",
      "dropout_5 (Dropout)          (None, 128)               0         \n",
      "_________________________________________________________________\n",
      "dense_8 (Dense)              (None, 64)                8256      \n",
      "_________________________________________________________________\n",
      "dropout_6 (Dropout)          (None, 64)                0         \n",
      "_________________________________________________________________\n",
      "dense_9 (Dense)              (None, 1)                 65        \n",
      "=================================================================\n",
      "Total params: 821,409\n",
      "Trainable params: 821,409\n",
      "Non-trainable params: 0\n",
      "_________________________________________________________________\n"
     ]
    }
   ],
   "source": [
    "model_architecture.summary()"
   ]
  },
  {
   "cell_type": "markdown",
   "metadata": {},
   "source": [
    "# 3. model.save_weights()"
   ]
  },
  {
   "cell_type": "markdown",
   "metadata": {},
   "source": [
    "If you only need to save the weights of a model, you can use the following function save the weights only."
   ]
  },
  {
   "cell_type": "code",
   "execution_count": 62,
   "metadata": {},
   "outputs": [],
   "source": [
    "model.save_weights('my_model_weights.h5')"
   ]
  },
  {
   "cell_type": "code",
   "execution_count": 64,
   "metadata": {},
   "outputs": [],
   "source": [
    "model2 = Sequential([\n",
    "    Dense(16,input_shape=(1,), activation='relu'),\n",
    "    Dense(32, activation = 'relu'),\n",
    "    Dense(2, activation = 'softmax')\n",
    "])"
   ]
  },
  {
   "cell_type": "code",
   "execution_count": 42,
   "metadata": {},
   "outputs": [
    {
     "name": "stdout",
     "output_type": "stream",
     "text": [
      "None\n"
     ]
    }
   ],
   "source": [
    "model2.load_weights('my_model_weights.h5')\n"
   ]
  }
 ],
 "metadata": {
  "kernelspec": {
   "display_name": "Python 3",
   "language": "python",
   "name": "python3"
  },
  "language_info": {
   "codemirror_mode": {
    "name": "ipython",
    "version": 3
   },
   "file_extension": ".py",
   "mimetype": "text/x-python",
   "name": "python",
   "nbconvert_exporter": "python",
   "pygments_lexer": "ipython3",
   "version": "3.7.6"
  }
 },
 "nbformat": 4,
 "nbformat_minor": 4
}
